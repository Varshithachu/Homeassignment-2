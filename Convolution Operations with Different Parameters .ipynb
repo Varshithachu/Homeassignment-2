{
  "cells": [
    {
      "cell_type": "code",
      "source": [
        "import numpy as np\n",
        "import tensorflow as tf\n",
        "from tensorflow.keras import layers\n",
        "\n",
        "# Define the 5x5 input matrix (you can modify these values as needed)\n",
        "input_matrix = np.array([[1, 2, 3, 4, 5],\n",
        "                         [6, 7, 8, 9, 10],\n",
        "                         [11, 12, 13, 14, 15],\n",
        "                         [16, 17, 18, 19, 20],\n",
        "                         [21, 22, 23, 24, 25]], dtype=np.float32)\n",
        "\n",
        "# Reshape input to match TensorFlow's expected shape: (batch, height, width, channels)\n",
        "input_tensor = input_matrix.reshape((1, 5, 5, 1))\n",
        "\n",
        "# Define the 3x3 kernel\n",
        "kernel = np.array([[1, 0, -1],\n",
        "                   [1, 0, -1],\n",
        "                   [1, 0, -1]], dtype=np.float32)\n",
        "\n",
        "# Reshape kernel to match TF shape: (kernel_height, kernel_width, input_channels, output_channels)\n",
        "kernel_tensor = kernel.reshape((3, 3, 1, 1))\n",
        "\n",
        "# Function to perform convolution given stride and padding\n",
        "def perform_convolution(stride, padding):\n",
        "    # Create a TensorFlow constant for the input and kernel\n",
        "    inp = tf.constant(input_tensor)\n",
        "    ker = tf.constant(kernel_tensor)\n",
        "\n",
        "    # Use tf.nn.conv2d to perform the convolution\n",
        "    conv_out = tf.nn.conv2d(inp, ker, strides=[1, stride, stride, 1], padding=padding)\n",
        "    return conv_out.numpy().squeeze()  # Remove extra dimensions for printing\n",
        "\n",
        "# Convolution cases\n",
        "conv_valid_stride1 = perform_convolution(stride=1, padding='VALID')\n",
        "conv_same_stride1 = perform_convolution(stride=1, padding='SAME')\n",
        "conv_valid_stride2 = perform_convolution(stride=2, padding='VALID')\n",
        "conv_same_stride2 = perform_convolution(stride=2, padding='SAME')\n",
        "\n",
        "# Print the results\n",
        "print(\"Output feature map (Stride = 1, Padding = 'VALID'):\")\n",
        "print(conv_valid_stride1)\n",
        "print(\"\\nOutput feature map (Stride = 1, Padding = 'SAME'):\")\n",
        "print(conv_same_stride1)\n",
        "print(\"\\nOutput feature map (Stride = 2, Padding = 'VALID'):\")\n",
        "print(conv_valid_stride2)\n",
        "print(\"\\nOutput feature map (Stride = 2, Padding = 'SAME'):\")\n",
        "print(conv_same_stride2)\n"
      ],
      "metadata": {
        "colab": {
          "base_uri": "https://localhost:8080/"
        },
        "id": "tcWH1_xtY4vu",
        "outputId": "ba15dfdb-4964-448e-c0d5-31cefaf2bb5e"
      },
      "id": "tcWH1_xtY4vu",
      "execution_count": 2,
      "outputs": [
        {
          "output_type": "stream",
          "name": "stdout",
          "text": [
            "Output feature map (Stride = 1, Padding = 'VALID'):\n",
            "[[-6. -6. -6.]\n",
            " [-6. -6. -6.]\n",
            " [-6. -6. -6.]]\n",
            "\n",
            "Output feature map (Stride = 1, Padding = 'SAME'):\n",
            "[[ -9.  -4.  -4.  -4.  13.]\n",
            " [-21.  -6.  -6.  -6.  27.]\n",
            " [-36.  -6.  -6.  -6.  42.]\n",
            " [-51.  -6.  -6.  -6.  57.]\n",
            " [-39.  -4.  -4.  -4.  43.]]\n",
            "\n",
            "Output feature map (Stride = 2, Padding = 'VALID'):\n",
            "[[-6. -6.]\n",
            " [-6. -6.]]\n",
            "\n",
            "Output feature map (Stride = 2, Padding = 'SAME'):\n",
            "[[ -9.  -4.  13.]\n",
            " [-36.  -6.  42.]\n",
            " [-39.  -4.  43.]]\n"
          ]
        }
      ]
    },
    {
      "cell_type": "code",
      "source": [],
      "metadata": {
        "id": "ZMMrsUyQh_Bw"
      },
      "id": "ZMMrsUyQh_Bw",
      "execution_count": null,
      "outputs": []
    },
    {
      "cell_type": "code",
      "source": [],
      "metadata": {
        "id": "VDqj9Wxfh_WN"
      },
      "id": "VDqj9Wxfh_WN",
      "execution_count": null,
      "outputs": []
    }
  ],
  "metadata": {
    "kernelspec": {
      "display_name": "Python 3 (ipykernel)",
      "language": "python",
      "name": "python3"
    },
    "language_info": {
      "codemirror_mode": {
        "name": "ipython",
        "version": 3
      },
      "file_extension": ".py",
      "mimetype": "text/x-python",
      "name": "python",
      "nbconvert_exporter": "python",
      "pygments_lexer": "ipython3",
      "version": "3.12.8"
    },
    "colab": {
      "provenance": []
    }
  },
  "nbformat": 4,
  "nbformat_minor": 5
}